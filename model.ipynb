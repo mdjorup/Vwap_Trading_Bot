{
 "cells": [
  {
   "cell_type": "markdown",
   "source": [
    "# This notebook is to test the model of trading based on crossings of the VWAP for different time intervals"
   ],
   "metadata": {}
  },
  {
   "cell_type": "code",
   "execution_count": 1,
   "source": [
    "import numpy as np\r\n",
    "import pandas as pd\r\n",
    "%matplotlib inline\r\n",
    "import matplotlib.pyplot as plt\r\n",
    "import data_writing\r\n",
    "import requests\r\n",
    "import config"
   ],
   "outputs": [],
   "metadata": {}
  },
  {
   "cell_type": "code",
   "execution_count": 36,
   "source": [
    "#functions\r\n",
    "def load_bars(timeframe, start_date, end_date):\r\n",
    "    symbols = [\"DMTK\"]\r\n",
    "    for symbol in symbols:\r\n",
    "        filename = 'data_files/bar_files/{}/{}.txt'.format(timeframe[1:].lower(),symbol)\r\n",
    "        f = open(filename, 'w+')\r\n",
    "        f.write('date,open,high,low,close,volume\\n')\r\n",
    "        url = '{}/stocks/{}/bars?start={}&end={}&timeframe={}&limit={}'.format(config.API_DATA_URL, symbol, start_date, end_date, timeframe, 10000)\r\n",
    "        r = requests.get(url, headers=config.HEADERS)\r\n",
    "        for bar in r.json()['bars']:\r\n",
    "            line = '{},{},{},{},{},{}\\n'.format(bar['t'], bar['o'], bar['h'], bar['l'], bar['c'], bar['v'])\r\n",
    "            f.write(line)\r\n",
    "\r\n",
    "def log_returns(list_prices):\r\n",
    "    return np.log(list_prices).diff().fillna(0)\r\n",
    "\r\n",
    "def vwap(df_orig, periods):\r\n",
    "    df = df_orig\r\n",
    "    df['dollars_traded'] = df['close'] * df['volume']\r\n",
    "    df['rolling_vol'] = df.iloc[:,4].rolling(periods, min_periods=1).sum()\r\n",
    "    df['rolling_closexvolume'] = df.iloc[:,6].rolling(periods, min_periods=1).sum()\r\n",
    "    df[\"vwap_{}\".format(periods)] = df['rolling_closexvolume'] / df['rolling_vol']\r\n",
    "    return df.iloc[:,[0,1,2,3,4,5,9]]\r\n",
    "\r\n",
    "def vwap_buy(list_price, list_vwap):\r\n",
    "    indicators = []\r\n",
    "    for i in range(len(list_price)):\r\n",
    "        # if price is greater than or equal to vwap and element before is less than equal to vwap\r\n",
    "        if i == 0:\r\n",
    "            indicators.append(0)\r\n",
    "        elif i == len(list_price)-1 or i == len(list_price)-2:\r\n",
    "            indicators.append(-1)\r\n",
    "        elif (list_price[i] >= list_vwap[i]) & (list_price[i-1] <= list_vwap[i-1]):\r\n",
    "            indicators.append(1)\r\n",
    "        elif (list_price[i] <= list_vwap[i]) & (list_price[i-1] >= list_vwap[i-1]):\r\n",
    "            indicators.append(-1)\r\n",
    "        else:\r\n",
    "            indicators.append(0)     \r\n",
    "    return indicators \r\n",
    "\r\n",
    "def calc_vwap_return(df):\r\n",
    "    counting = False\r\n",
    "    return_sum = 0\r\n",
    "    for i in range(len(df)):\r\n",
    "        if counting:\r\n",
    "            return_sum = return_sum + df['log_returns'][i]\r\n",
    "        if df['vwap_indicator'][i] == 1:\r\n",
    "            counting = True\r\n",
    "        elif df['vwap_indicator'][i] == -1:\r\n",
    "            counting=False\r\n",
    "        if np.exp(return_sum) <= 0.995:\r\n",
    "            break\r\n",
    "    return return_sum\r\n",
    "\r\n",
    "def intra_day_returns(df):\r\n",
    "    counting = False\r\n",
    "    return_sum = 0\r\n",
    "    arr = []\r\n",
    "    for i in range(len(df)):\r\n",
    "        if counting:\r\n",
    "            return_sum = return_sum + df['log_returns'][i]\r\n",
    "        if df['vwap_indicator'][i] == 1:\r\n",
    "            counting = True\r\n",
    "        elif df['vwap_indicator'][i] == -1:\r\n",
    "            counting=False\r\n",
    "        arr.append(return_sum)\r\n",
    "    return arr\r\n",
    "\r\n",
    "def reverse_log(value):\r\n",
    "    return np.exp(value)"
   ],
   "outputs": [],
   "metadata": {}
  },
  {
   "cell_type": "code",
   "execution_count": 48,
   "source": [
    "data_writing.load_bars(\"1Min\", \"2021-07-21\", \"2021-07-21\")\r\n",
    "df = pd.read_csv(\"C:/Users/Student/Analytics Projects/AlpacaStream/data_files/bar_files/min/AAPL.txt\", header=0)\r\n",
    "df[\"date\"] = pd.to_datetime(df[\"date\"], utc=True)\r\n",
    "df = df.set_index(\"date\")\r\n",
    "\r\n",
    "type(df['close'])"
   ],
   "outputs": [
    {
     "output_type": "execute_result",
     "data": {
      "text/plain": [
       "pandas.core.series.Series"
      ]
     },
     "metadata": {},
     "execution_count": 48
    }
   ],
   "metadata": {}
  },
  {
   "cell_type": "code",
   "execution_count": 30,
   "source": [
    "df_market = df.between_time('13:30', '20:00')\r\n",
    "df_market['log_returns'] = log_returns(df_market['close'])\r\n",
    "reverse_log(df_market['log_returns'].sum())"
   ],
   "outputs": [
    {
     "output_type": "execute_result",
     "data": {
      "text/plain": [
       "-0.171644352900846"
      ]
     },
     "metadata": {},
     "execution_count": 30
    }
   ],
   "metadata": {}
  },
  {
   "cell_type": "code",
   "execution_count": 39,
   "source": [
    "# Putting it all together\r\n",
    "\r\n",
    "def find_best_combo(data):\r\n",
    "    vals = np.arange(5, 120, 5)\r\n",
    "    rets = []\r\n",
    "    for time in vals:\r\n",
    "        data_copy = data.copy()\r\n",
    "        with_vwap = vwap(data_copy, time)\r\n",
    "        with_vwap['vwap_indicator'] = vwap_buy(with_vwap['close'], with_vwap['vwap_{}'.format(time)])\r\n",
    "        ret = calc_vwap_return(with_vwap.iloc[10:,:])\r\n",
    "        append_val = reverse_log(ret)\r\n",
    "        if append_val < 0.995:\r\n",
    "            append_val = 0.995\r\n",
    "        rets.append(append_val)\r\n",
    "    return rets\r\n",
    "        #print(\"{} minute vwap yields: \".format(time), reverse_log(ret))\r\n",
    "\r\n"
   ],
   "outputs": [],
   "metadata": {}
  },
  {
   "cell_type": "code",
   "execution_count": 40,
   "source": [
    "def list_of_dates(date_object_list):\r\n",
    "    a = []\r\n",
    "    for d in date_object_list:\r\n",
    "        a.append(str(d)[:10])\r\n",
    "    return a\r\n",
    "\r\n",
    "def get_all_returns(stock, start_date, end_date):\r\n",
    "    dates = list_of_dates(pd.date_range(start_date, end_date))\r\n",
    "    returns = np.ones(23)\r\n",
    "    five_rets = []\r\n",
    "    for date in dates:\r\n",
    "        load_bars(\"1Min\", date, date)\r\n",
    "        stock_data = pd.read_csv(\"C:/Users/Student/Analytics Projects/AlpacaStream/data_files/bar_files/min/{}.txt\".format(stock), header=0)\r\n",
    "        if len(stock_data) == 0:\r\n",
    "            continue\r\n",
    "        stock_data[\"date\"] = pd.to_datetime(stock_data[\"date\"], utc=True)\r\n",
    "        stock_data = stock_data.set_index(\"date\")\r\n",
    "        stock_data = stock_data.between_time('13:30', '20:00')\r\n",
    "        stock_data['log_returns'] = log_returns(stock_data['close'])\r\n",
    "        multiplier = find_best_combo(stock_data)\r\n",
    "        returns = returns * multiplier\r\n",
    "        print('\\r', \"Printed date: \", date, \"\\tReturn: \", returns[0], end='')\r\n",
    "        five_rets.append(multiplier[0])\r\n",
    "    \r\n",
    "    print(\"\\n\", returns)\r\n",
    "    return five_rets        \r\n",
    "\r\n",
    "nio_2021 = get_all_returns(\"DMTK\", \"2021-04-01\", \"2021-07-23\")\r\n",
    "\r\n",
    "print(min(nio_2021), max(nio_2021), np.mean(nio_2021))\r\n",
    "\r\n",
    "print('\\n', nio_2021)\r\n",
    "    \r\n",
    "    \r\n"
   ],
   "outputs": [
    {
     "output_type": "stream",
     "name": "stderr",
     "text": [
      "C:\\Users\\Student\\AppData\\Local\\Programs\\Python\\Python39\\lib\\site-packages\\pandas\\core\\frame.py:3607: SettingWithCopyWarning: \n",
      "A value is trying to be set on a copy of a slice from a DataFrame.\n",
      "Try using .loc[row_indexer,col_indexer] = value instead\n",
      "\n",
      "See the caveats in the documentation: https://pandas.pydata.org/pandas-docs/stable/user_guide/indexing.html#returning-a-view-versus-a-copy\n",
      "  self._set_item(key, value)\n"
     ]
    },
    {
     "output_type": "stream",
     "name": "stdout",
     "text": [
      " Printed date:  2021-07-23 \tReturn:  0.7162796167153866\n",
      " [0.71627962 0.86100833 0.78692501 0.81667478 0.81132898 0.72431587\n",
      " 0.74822187 0.78290257 0.78841904 0.81292485 0.80677896 0.84813156\n",
      " 0.80982719 0.8481412  0.8469004  0.83185209 0.8392013  0.8439947\n",
      " 0.89279724 0.90899481 0.96667039 0.94435539 0.87103881]\n",
      "0.995 1.0245912696260258 0.9957938753523171\n",
      "\n",
      " [0.995, 0.995, 0.995, 0.995, 0.995, 0.995, 0.995, 0.995, 0.995, 0.995, 0.995, 0.995, 0.995, 0.995, 0.995, 0.995, 0.995, 0.995, 0.995, 0.995, 0.995, 0.995, 0.995, 0.995, 0.995, 0.995, 0.995, 0.995, 0.995, 0.995, 0.995, 0.995, 0.995, 0.995, 1.0245912696260258, 0.995, 0.995, 0.995, 0.995, 0.995, 0.995, 0.995, 0.995, 0.995, 0.995, 0.995, 0.995, 0.995, 0.995, 0.995, 0.995, 0.995, 0.995, 0.995, 0.995, 0.995, 0.995, 0.995, 0.995, 0.995, 0.995, 0.995, 0.995, 0.995, 0.995, 0.995, 0.995, 1.015790472336339, 1.0073344108706617, 0.995, 0.995, 0.995, 0.995, 0.995, 0.995, 0.995, 0.995, 0.995, 0.995]\n"
     ]
    }
   ],
   "metadata": {}
  },
  {
   "cell_type": "code",
   "execution_count": 34,
   "source": [
    "load_bars(\"1Min\", \"2021-07-19\", \"2021-07-19\")\r\n",
    "spy = pd.read_csv(\"C:/Users/Student/Analytics Projects/AlpacaStream/data_files/bar_files/min/{}.txt\".format(\"NIO\"), header=0)\r\n",
    "spy[\"date\"] = pd.to_datetime(spy[\"date\"], utc=True)\r\n",
    "spy = spy.set_index(\"date\")\r\n",
    "spy = spy.between_time('13:30', '20:00')\r\n",
    "spy['log_returns'] = log_returns(spy['close'])\r\n",
    "with_vwap = vwap(spy, 5)\r\n",
    "with_vwap['vwap_indicator'] = vwap_buy(with_vwap['close'], with_vwap['vwap_{}'.format(5)])\r\n",
    "day_rets = intra_day_returns(with_vwap)\r\n",
    "plt.plot(np.exp(day_rets))\r\n",
    "day_rets[-10:]\r\n",
    "#print(day_rets)\r\n",
    "#plt.plot(spy['close'][150:200])\r\n",
    "#plt.plot(spy['vwap_5'][150:200])\r\n",
    "#plt.plot(day_rets)"
   ],
   "outputs": [
    {
     "output_type": "execute_result",
     "data": {
      "text/plain": [
       "[0.03949435031988324,\n",
       " 0.040418778395884036,\n",
       " 0.0408806721685302,\n",
       " 0.041226952543664375,\n",
       " 0.04214978107841372,\n",
       " 0.04336891541368182,\n",
       " 0.04364756348872545,\n",
       " 0.04318694625349684,\n",
       " 0.042034474073385564,\n",
       " 0.042034474073385564]"
      ]
     },
     "metadata": {},
     "execution_count": 34
    },
    {
     "output_type": "display_data",
     "data": {
      "text/plain": [
       "<Figure size 432x288 with 1 Axes>"
      ],
      "image/png": "[encoded data removed]"
     },
     "metadata": {
      "needs_background": "light"
     }
    }
   ],
   "metadata": {}
  },
  {
   "cell_type": "code",
   "execution_count": 47,
   "source": [
    "practice = pd.DataFrame([[1,2,3], [4,5,6]], columns = ['a', 'b', 'c'])\r\n",
    "practice['a'].to_numpy()\r\n",
    "print(np.sum(practice['b'] * practice['a']))\r\n"
   ],
   "outputs": [
    {
     "output_type": "stream",
     "name": "stdout",
     "text": [
      "22\n"
     ]
    }
   ],
   "metadata": {}
  },
  {
   "cell_type": "code",
   "execution_count": 56,
   "source": [
    "pd.to_datetime(\"today\") < pd.to_datetime(\"12:00\")"
   ],
   "outputs": [
    {
     "output_type": "execute_result",
     "data": {
      "text/plain": [
       "False"
      ]
     },
     "metadata": {},
     "execution_count": 56
    }
   ],
   "metadata": {}
  },
  {
   "cell_type": "code",
   "execution_count": null,
   "source": [],
   "outputs": [],
   "metadata": {}
  }
 ],
 "metadata": {
  "language_info": {
   "name": "python",
   "version": "3.9.6",
   "mimetype": "text/x-python",
   "codemirror_mode": {
    "name": "ipython",
    "version": 3
   },
   "pygments_lexer": "ipython3",
   "nbconvert_exporter": "python",
   "file_extension": ".py"
  },
  "kernelspec": {
   "name": "python3",
   "display_name": "Python 3.9.6 64-bit"
  },
  "interpreter": {
   "hash": "d22062a349565d47932e26840da5411063d75b4bbbcc67467bb4b0a2b9470436"
  }
 },
 "nbformat": 4,
 "nbformat_minor": 5
}